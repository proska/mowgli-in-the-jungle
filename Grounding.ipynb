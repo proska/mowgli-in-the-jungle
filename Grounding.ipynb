{
 "cells": [
  {
   "cell_type": "code",
   "execution_count": 6,
   "metadata": {},
   "outputs": [],
   "source": [
    "import pandas as pd\n",
    "import numpy as np"
   ]
  },
  {
   "cell_type": "code",
   "execution_count": 2,
   "metadata": {},
   "outputs": [],
   "source": [
    "datadir='../isi-mcs-kg/mowgli_data/v002/all'\n",
    "nodes_file='%s/nodes_v002.csv' % datadir\n",
    "edges_file='%s/edges_v002.csv' % datadir"
   ]
  },
  {
   "cell_type": "code",
   "execution_count": 8,
   "metadata": {},
   "outputs": [],
   "source": [
    "nodes=pd.read_csv(nodes_file, sep='\\t').replace(np.nan, '')"
   ]
  },
  {
   "cell_type": "code",
   "execution_count": 15,
   "metadata": {},
   "outputs": [],
   "source": [
    "def get_relevant_nodes(df, query):\n",
    "    new_df=df[df['label'].str.contains(query)]['id']\n",
    "    return list(new_df)"
   ]
  },
  {
   "cell_type": "code",
   "execution_count": 21,
   "metadata": {},
   "outputs": [],
   "source": [
    "def get_associated_nodes(df, seed_list):\n",
    "    objs=df[df['subject'].isin(seed_list)]['object']\n",
    "    subjs=df[df['object'].isin(seed_list)]['subject']\n",
    "    return set(objs) | set(subjs)"
   ]
  },
  {
   "cell_type": "code",
   "execution_count": 22,
   "metadata": {},
   "outputs": [],
   "source": [
    "def get_labels(df, nodes_list):\n",
    "    new_df=df[df['id'].isin(nodes_list)]['label']\n",
    "    return set(new_df)"
   ]
  },
  {
   "cell_type": "code",
   "execution_count": 18,
   "metadata": {},
   "outputs": [],
   "source": [
    "q='high jump'\n",
    "seed_list=get_relevant_nodes(nodes, q)"
   ]
  },
  {
   "cell_type": "code",
   "execution_count": 14,
   "metadata": {},
   "outputs": [],
   "source": [
    "edges=pd.read_csv(edges_file, sep='\\t').replace(np.nan, '')"
   ]
  },
  {
   "cell_type": "code",
   "execution_count": 19,
   "metadata": {},
   "outputs": [],
   "source": [
    "associated=get_associated_nodes(edges, seed_list)"
   ]
  },
  {
   "cell_type": "code",
   "execution_count": 20,
   "metadata": {},
   "outputs": [
    {
     "data": {
      "text/plain": [
       "{'/c/en/athlete',\n",
       " '/c/en/athletics',\n",
       " '/c/en/bar/n/wikt/en_1',\n",
       " '/c/en/field_event/n/wn/event',\n",
       " '/c/en/field_sport_area/n',\n",
       " '/c/en/field_sports_event/n',\n",
       " '/c/en/flea',\n",
       " '/c/en/flop_style/n',\n",
       " '/c/en/fosbury_flop',\n",
       " '/c/en/fosbury_flop/n',\n",
       " '/c/en/fosbury_flop/n/wn/act',\n",
       " '/c/en/high',\n",
       " '/c/en/high_jump',\n",
       " '/c/en/high_jump/n',\n",
       " '/c/en/high_jump/n/wn/act',\n",
       " '/c/en/high_jump/n/wn/event',\n",
       " '/c/en/high_jumper',\n",
       " '/c/en/high_jumper/n',\n",
       " '/c/en/high_jumpers/n',\n",
       " '/c/en/intelligent_agent_activity/n',\n",
       " '/c/en/jump',\n",
       " '/c/en/jump_high',\n",
       " '/c/en/jumping/n/wn/act',\n",
       " '/c/en/non_powered_device/n',\n",
       " '/c/en/run_up/n',\n",
       " '/c/en/sports_equipment/n',\n",
       " '/c/en/summer_olympics_competition/n',\n",
       " '/c/en/western_roll',\n",
       " '/c/en/western_roll/n',\n",
       " 'mw:Noun',\n",
       " 'vg:B3864988',\n",
       " 'vg:O1962276',\n",
       " 'vg:O2707599',\n",
       " 'vg:O3563933',\n",
       " 'vg:O501345',\n",
       " 'wn:leap.n.02',\n",
       " 'wn:make.v.01'}"
      ]
     },
     "execution_count": 20,
     "metadata": {},
     "output_type": "execute_result"
    }
   ],
   "source": [
    "associated"
   ]
  },
  {
   "cell_type": "code",
   "execution_count": 23,
   "metadata": {},
   "outputs": [],
   "source": [
    "extra_labels=get_labels(nodes, list(associated))"
   ]
  },
  {
   "cell_type": "code",
   "execution_count": 26,
   "metadata": {},
   "outputs": [
    {
     "data": {
      "text/plain": [
       "', snowboarder, field sport area, high jumpers, fosbury flop, sports equipment, making exchange with, skater, high, intelligent agent activity, summer olympics competition, athlete, jump, western roll, high jumper, n, field sports event, bar, non powered device, athletics, flea, high jump, jump high, skateboarder, wooden jump, jumping, field event, apparatus, run up, flop style'"
      ]
     },
     "execution_count": 26,
     "metadata": {},
     "output_type": "execute_result"
    }
   ],
   "source": [
    "', '.join(extra_labels)"
   ]
  },
  {
   "cell_type": "code",
   "execution_count": null,
   "metadata": {},
   "outputs": [],
   "source": []
  }
 ],
 "metadata": {
  "kernelspec": {
   "display_name": "Python 3",
   "language": "python",
   "name": "python3"
  },
  "language_info": {
   "codemirror_mode": {
    "name": "ipython",
    "version": 3
   },
   "file_extension": ".py",
   "mimetype": "text/x-python",
   "name": "python",
   "nbconvert_exporter": "python",
   "pygments_lexer": "ipython3",
   "version": "3.7.4"
  }
 },
 "nbformat": 4,
 "nbformat_minor": 4
}
