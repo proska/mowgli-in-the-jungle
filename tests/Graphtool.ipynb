{
 "cells": [
  {
   "cell_type": "code",
   "execution_count": 1,
   "metadata": {},
   "outputs": [],
   "source": [
    "import sys\n",
    "sys.path.append('../')\n",
    "import utils.general as utils\n",
    "\n",
    "import utils.gt.io_utils as gtio\n",
    "\n",
    "#datadir='~/mowgli-in-the-jungle/kb/'\n",
    "#datadir='/nas/home/ilievski/mowgli-in-the-jungle/kb/'\n",
    "datadir='/Users/filipilievski/mowgli-dev-framework/kb/'\n",
    "mowgli_nodes=f'{datadir}nodes_v002.csv'\n",
    "mowgli_edges=f'{datadir}edges_v002.csv'\n",
    "output_gml=f'{datadir}graph.graphml'"
   ]
  },
  {
   "cell_type": "code",
   "execution_count": 2,
   "metadata": {},
   "outputs": [
    {
     "name": "stderr",
     "output_type": "stream",
     "text": [
      "/Users/filipilievski/opt/anaconda3/envs/mcs/lib/python3.7/site-packages/graph_tool/draw/cairo_draw.py:1494: RuntimeWarning: Error importing Gtk module: No module named 'gi'; GTK+ drawing will not work.\n",
      "  warnings.warn(msg, RuntimeWarning)\n",
      "2020-02-10 10:13:04.994 | INFO     | utils.gt.io_utils:load_gt_graph:13 - loading the generated graph file from /Users/filipilievski/mowgli-dev-framework/kb/graph.gt\n"
     ]
    }
   ],
   "source": [
    "#gtio.transform_to_graphtool_format(mowgli_nodes, mowgli_edges, output_gml, True)\n",
    "g=gtio.load_gt_graph(output_gml.replace(\".graphml\", '.gt'))"
   ]
  },
  {
   "cell_type": "code",
   "execution_count": 3,
   "metadata": {},
   "outputs": [],
   "source": [
    "import importlib"
   ]
  },
  {
   "cell_type": "markdown",
   "metadata": {},
   "source": [
    "#### Basic stats"
   ]
  },
  {
   "cell_type": "code",
   "execution_count": 4,
   "metadata": {},
   "outputs": [],
   "source": [
    "import utils.gt.analysis_utils as gtanalysis\n",
    "%matplotlib inline"
   ]
  },
  {
   "cell_type": "code",
   "execution_count": 114,
   "metadata": {},
   "outputs": [
    {
     "data": {
      "text/plain": [
       "<module 'utils.gt.analysis_utils' from '../utils/gt/analysis_utils.py'>"
      ]
     },
     "execution_count": 114,
     "metadata": {},
     "output_type": "execute_result"
    }
   ],
   "source": [
    "importlib.reload(gtanalysis)"
   ]
  },
  {
   "cell_type": "code",
   "execution_count": 6,
   "metadata": {},
   "outputs": [],
   "source": [
    "plottype='loglog'\n",
    "base=10\n",
    "xlabel='degree'\n",
    "ylabel='# nodes'"
   ]
  },
  {
   "cell_type": "code",
   "execution_count": 7,
   "metadata": {},
   "outputs": [],
   "source": [
    "num_nodes=gtanalysis.get_num_nodes(g)\n",
    "num_edges=gtanalysis.get_num_edges(g)\n",
    "avg_degree=gtanalysis.compute_avg_node_degree(g, 'total')"
   ]
  },
  {
   "cell_type": "code",
   "execution_count": 8,
   "metadata": {},
   "outputs": [],
   "source": [
    "directions=['in', 'out', 'total']"
   ]
  },
  {
   "cell_type": "code",
   "execution_count": null,
   "metadata": {},
   "outputs": [],
   "source": [
    "gtanalysis.get_topN_relations(g)"
   ]
  },
  {
   "cell_type": "code",
   "execution_count": 85,
   "metadata": {},
   "outputs": [
    {
     "data": {
      "text/plain": [
       "{('v',\n",
       "  '_graphml_vertex_id'): <VertexPropertyMap object with value type 'string', for Graph 0x7f9870938e90, at 0x7f9870423450>,\n",
       " ('v',\n",
       "  'aliases'): <VertexPropertyMap object with value type 'string', for Graph 0x7f9870938e90, at 0x7f9870423350>,\n",
       " ('v',\n",
       "  'datasource'): <VertexPropertyMap object with value type 'string', for Graph 0x7f9870938e90, at 0x7f98704238d0>,\n",
       " ('v',\n",
       "  'label'): <VertexPropertyMap object with value type 'string', for Graph 0x7f9870938e90, at 0x7f9870423550>,\n",
       " ('v',\n",
       "  'other'): <VertexPropertyMap object with value type 'string', for Graph 0x7f9870938e90, at 0x7f9870424310>,\n",
       " ('v',\n",
       "  'pos'): <VertexPropertyMap object with value type 'string', for Graph 0x7f9870938e90, at 0x7f9870d4a390>,\n",
       " ('e',\n",
       "  '_graphml_edge_id'): <EdgePropertyMap object with value type 'string', for Graph 0x7f9870938e90, at 0x7f9870daa310>,\n",
       " ('e',\n",
       "  'datasource'): <EdgePropertyMap object with value type 'string', for Graph 0x7f9870938e90, at 0x7f9870daa2d0>,\n",
       " ('e',\n",
       "  'other'): <EdgePropertyMap object with value type 'string', for Graph 0x7f9870938e90, at 0x7f9870db1050>,\n",
       " ('e',\n",
       "  'predicate'): <EdgePropertyMap object with value type 'string', for Graph 0x7f9870938e90, at 0x7f9870db1750>,\n",
       " ('e',\n",
       "  'weight'): <EdgePropertyMap object with value type 'string', for Graph 0x7f9870938e90, at 0x7f9870db1790>,\n",
       " ('v',\n",
       "  'vertex_pagerank'): <VertexPropertyMap object with value type 'double', for Graph 0x7f9870938e90, at 0x7f9873af1d50>}"
      ]
     },
     "execution_count": 85,
     "metadata": {},
     "output_type": "execute_result"
    }
   ],
   "source": [
    "g.properties"
   ]
  },
  {
   "cell_type": "code",
   "execution_count": 46,
   "metadata": {},
   "outputs": [
    {
     "name": "stdout",
     "output_type": "stream",
     "text": [
      "{'num_nodes': 15776296, 'num_edges': 35037637, 'avg_degree': 2.2209038800996126, 'degree_maxn_counts': [5586168, 6390596, 810587, 1942396, 253380, 254033, 104300, 77119, 41794, 41094], 'stdev_degree': 0.06608135202529582}\n",
      "{'num_nodes': 15776296, 'num_edges': 35037637, 'avg_degree': 2.2209038800996126, 'degree_maxn_counts': [522277, 8255963, 2189557, 1864938, 2123869, 229867, 148843, 104141, 73830, 52907], 'stdev_degree': 0.0015965286635876293}\n",
      "{'num_nodes': 15776296, 'num_edges': 35037637, 'avg_degree': 4.441807760199225, 'degree_maxn_counts': [468, 2303080, 4832724, 2600645, 4049396, 507209, 326961, 224855, 129287, 117570], 'stdev_degree': 0.06613670809880458}\n"
     ]
    }
   ],
   "source": [
    "degrees={}\n",
    "for direction in directions:\n",
    "    stats=gtanalysis.compute_stats(g, direction)\n",
    "    print(stats)\n",
    "\n",
    "    \n",
    "    degree_data=gtanalysis.compute_node_degree_hist(g, direction)\n",
    "    degrees[direction]=list(degree_data[0])"
   ]
  },
  {
   "cell_type": "markdown",
   "metadata": {},
   "source": [
    "#### Working with degrees"
   ]
  },
  {
   "cell_type": "code",
   "execution_count": 48,
   "metadata": {},
   "outputs": [],
   "source": [
    "len_degrees=len(degrees['total'])\n",
    "for d in directions:\n",
    "    add_zeros=[0]*(len_degrees-len(degrees[d]))\n",
    "    degrees[d] = degrees[d] + add_zeros\n",
    "#    print(add_zeros)"
   ]
  },
  {
   "cell_type": "code",
   "execution_count": 60,
   "metadata": {},
   "outputs": [],
   "source": [
    "import seaborn as sns; sns.set()\n",
    "import matplotlib.pyplot as plt\n",
    "import pandas as pd\n",
    "import numpy as np"
   ]
  },
  {
   "cell_type": "code",
   "execution_count": 62,
   "metadata": {},
   "outputs": [],
   "source": [
    "degrees['x'] = list(np.arange(len(degrees['total'])))"
   ]
  },
  {
   "cell_type": "code",
   "execution_count": 66,
   "metadata": {},
   "outputs": [],
   "source": [
    "df = pd.DataFrame(degrees)"
   ]
  },
  {
   "cell_type": "code",
   "execution_count": 67,
   "metadata": {},
   "outputs": [
    {
     "data": {
      "text/html": [
       "<div>\n",
       "<style scoped>\n",
       "    .dataframe tbody tr th:only-of-type {\n",
       "        vertical-align: middle;\n",
       "    }\n",
       "\n",
       "    .dataframe tbody tr th {\n",
       "        vertical-align: top;\n",
       "    }\n",
       "\n",
       "    .dataframe thead th {\n",
       "        text-align: right;\n",
       "    }\n",
       "</style>\n",
       "<table border=\"1\" class=\"dataframe\">\n",
       "  <thead>\n",
       "    <tr style=\"text-align: right;\">\n",
       "      <th></th>\n",
       "      <th>in</th>\n",
       "      <th>out</th>\n",
       "      <th>total</th>\n",
       "      <th>x</th>\n",
       "    </tr>\n",
       "  </thead>\n",
       "  <tbody>\n",
       "    <tr>\n",
       "      <td>0</td>\n",
       "      <td>5586168</td>\n",
       "      <td>522277</td>\n",
       "      <td>468</td>\n",
       "      <td>0</td>\n",
       "    </tr>\n",
       "    <tr>\n",
       "      <td>1</td>\n",
       "      <td>6390596</td>\n",
       "      <td>8255963</td>\n",
       "      <td>2303080</td>\n",
       "      <td>1</td>\n",
       "    </tr>\n",
       "    <tr>\n",
       "      <td>2</td>\n",
       "      <td>810587</td>\n",
       "      <td>2189557</td>\n",
       "      <td>4832724</td>\n",
       "      <td>2</td>\n",
       "    </tr>\n",
       "    <tr>\n",
       "      <td>3</td>\n",
       "      <td>1942396</td>\n",
       "      <td>1864938</td>\n",
       "      <td>2600645</td>\n",
       "      <td>3</td>\n",
       "    </tr>\n",
       "    <tr>\n",
       "      <td>4</td>\n",
       "      <td>253380</td>\n",
       "      <td>2123869</td>\n",
       "      <td>4049396</td>\n",
       "      <td>4</td>\n",
       "    </tr>\n",
       "    <tr>\n",
       "      <td>...</td>\n",
       "      <td>...</td>\n",
       "      <td>...</td>\n",
       "      <td>...</td>\n",
       "      <td>...</td>\n",
       "    </tr>\n",
       "    <tr>\n",
       "      <td>587354</td>\n",
       "      <td>0</td>\n",
       "      <td>0</td>\n",
       "      <td>0</td>\n",
       "      <td>587354</td>\n",
       "    </tr>\n",
       "    <tr>\n",
       "      <td>587355</td>\n",
       "      <td>0</td>\n",
       "      <td>0</td>\n",
       "      <td>0</td>\n",
       "      <td>587355</td>\n",
       "    </tr>\n",
       "    <tr>\n",
       "      <td>587356</td>\n",
       "      <td>0</td>\n",
       "      <td>0</td>\n",
       "      <td>0</td>\n",
       "      <td>587356</td>\n",
       "    </tr>\n",
       "    <tr>\n",
       "      <td>587357</td>\n",
       "      <td>0</td>\n",
       "      <td>0</td>\n",
       "      <td>0</td>\n",
       "      <td>587357</td>\n",
       "    </tr>\n",
       "    <tr>\n",
       "      <td>587358</td>\n",
       "      <td>1</td>\n",
       "      <td>0</td>\n",
       "      <td>1</td>\n",
       "      <td>587358</td>\n",
       "    </tr>\n",
       "  </tbody>\n",
       "</table>\n",
       "<p>587359 rows × 4 columns</p>\n",
       "</div>"
      ],
      "text/plain": [
       "             in      out    total       x\n",
       "0       5586168   522277      468       0\n",
       "1       6390596  8255963  2303080       1\n",
       "2        810587  2189557  4832724       2\n",
       "3       1942396  1864938  2600645       3\n",
       "4        253380  2123869  4049396       4\n",
       "...         ...      ...      ...     ...\n",
       "587354        0        0        0  587354\n",
       "587355        0        0        0  587355\n",
       "587356        0        0        0  587356\n",
       "587357        0        0        0  587357\n",
       "587358        1        0        1  587358\n",
       "\n",
       "[587359 rows x 4 columns]"
      ]
     },
     "execution_count": 67,
     "metadata": {},
     "output_type": "execute_result"
    }
   ],
   "source": [
    "df"
   ]
  },
  {
   "cell_type": "code",
   "execution_count": 152,
   "metadata": {},
   "outputs": [
    {
     "data": {
      "image/png": "[encoded data removed]",
      "text/plain": [
       "<Figure size 1728x432 with 3 Axes>"
      ]
     },
     "metadata": {},
     "output_type": "display_data"
    }
   ],
   "source": [
    "#sns.set_style(\"whitegrid\")\n",
    "sns.set(rc={\"font.size\":20,\"axes.titlesize\":22,\"axes.labelsize\":15, 'xtick.labelsize': 15, 'ytick.labelsize': 15}, style=\"whitegrid\")\n",
    "\n",
    "f, axes = plt.subplots(1,3, figsize=(24, 6), sharey=True)#, fontsize=20,fontweight='bold')\n",
    "for i, d in enumerate(directions):\n",
    "    p=sns.lineplot(data=df, x='x', y=d, ax=axes[i])\n",
    "    p.set(xscale=\"log\", yscale=\"log\", title=d + ' degree', xlabel='degree', ylabel='frequency')"
   ]
  },
  {
   "cell_type": "code",
   "execution_count": 153,
   "metadata": {},
   "outputs": [],
   "source": [
    "f.savefig('degrees.png')"
   ]
  },
  {
   "cell_type": "code",
   "execution_count": null,
   "metadata": {},
   "outputs": [],
   "source": [
    "gtanalysis.plot_degrees(degrees, \n",
    "                        plottype=plottype, \n",
    "                        base=base, \n",
    "                        xlabel=xlabel, \n",
    "                        ylabel=ylabel,\n",
    "                        title=direction + ' degrees')"
   ]
  },
  {
   "cell_type": "markdown",
   "metadata": {},
   "source": [
    "#### PageRank"
   ]
  },
  {
   "cell_type": "code",
   "execution_count": 94,
   "metadata": {},
   "outputs": [],
   "source": [
    "g.vp['vertex_pagerank'] = gtanalysis.compute_pagerank(g)"
   ]
  },
  {
   "cell_type": "code",
   "execution_count": 97,
   "metadata": {},
   "outputs": [
    {
     "name": "stdout",
     "output_type": "stream",
     "text": [
      "0\n",
      "1000000\n",
      "2000000\n",
      "3000000\n",
      "4000000\n",
      "5000000\n",
      "6000000\n",
      "7000000\n",
      "8000000\n",
      "9000000\n",
      "10000000\n",
      "11000000\n",
      "12000000\n",
      "13000000\n",
      "14000000\n",
      "15000000\n"
     ]
    }
   ],
   "source": [
    "max_pr, max_pr_vertex=gtanalysis.get_max_node(g, 'vertex_pagerank')"
   ]
  },
  {
   "cell_type": "code",
   "execution_count": 98,
   "metadata": {},
   "outputs": [
    {
     "name": "stdout",
     "output_type": "stream",
     "text": [
      "mw:Noun 0.009272225424892097\n"
     ]
    }
   ],
   "source": [
    "print(max_pr_vertex, max_pr)"
   ]
  },
  {
   "cell_type": "code",
   "execution_count": 109,
   "metadata": {},
   "outputs": [
    {
     "name": "stdout",
     "output_type": "stream",
     "text": [
      "15764579 wn:blue.s.01 0.00320910813004036\n",
      "15763616 wn:along.r.01 0.003216027469207766\n",
      "15764499 wn:black.a.01 0.005231619146099904\n",
      "1787274 mw:Noun 0.009272225424892097\n",
      "15775809 wn:white.a.01 0.008227608612709922\n"
     ]
    }
   ],
   "source": [
    "gtanalysis.get_topn_indices(g, 'vertex_pagerank', 5)"
   ]
  },
  {
   "cell_type": "code",
   "execution_count": 155,
   "metadata": {},
   "outputs": [
    {
     "name": "stdout",
     "output_type": "stream",
     "text": [
      "0.009272225424892097\n",
      "2.7015957305386266e-08\n"
     ]
    }
   ],
   "source": [
    "prs=g.vp['vertex_pagerank'].a\n",
    "print(np.max(prs))\n",
    "print(np.min(prs))"
   ]
  },
  {
   "cell_type": "code",
   "execution_count": 167,
   "metadata": {},
   "outputs": [],
   "source": [
    "pr_data={}\n",
    "pr_data['PageRank']=list(np.sort(prs))\n",
    "pr_data['x'] = list(np.arange(len(prs)))\n",
    "\n",
    "pr_df=pd.DataFrame(pr_data)"
   ]
  },
  {
   "cell_type": "code",
   "execution_count": 181,
   "metadata": {},
   "outputs": [
    {
     "data": {
      "text/plain": [
       "Text(0.5, 1.0, 'PageRank value distribution')"
      ]
     },
     "execution_count": 181,
     "metadata": {},
     "output_type": "execute_result"
    },
    {
     "data": {
      "image/png": "[encoded data removed]",
      "text/plain": [
       "<Figure size 576x432 with 1 Axes>"
      ]
     },
     "metadata": {},
     "output_type": "display_data"
    }
   ],
   "source": [
    "fig = plt.figure(figsize=(8,6))\n",
    "plt.loglog(np.flip(np.sort(prs)))#, basey=base)\n",
    "plt.ylabel('PageRank')\n",
    "plt.xlabel('nodes')\n",
    "plt.title('PageRank value distribution')\n",
    "#    plt.show()"
   ]
  },
  {
   "cell_type": "code",
   "execution_count": 182,
   "metadata": {},
   "outputs": [],
   "source": [
    "fig.savefig('pagerank.png')"
   ]
  },
  {
   "cell_type": "markdown",
   "metadata": {},
   "source": [
    "#### HITS"
   ]
  },
  {
   "cell_type": "code",
   "execution_count": 115,
   "metadata": {},
   "outputs": [],
   "source": [
    "hits_eig, g.vp['vertex_hubs'], g.vp['vertex_auth']=gtanalysis.compute_hits(g)"
   ]
  },
  {
   "cell_type": "code",
   "execution_count": 111,
   "metadata": {},
   "outputs": [
    {
     "name": "stdout",
     "output_type": "stream",
     "text": [
      "0.0013035561856603037\n",
      "15776296\n",
      "15776296\n"
     ]
    }
   ],
   "source": [
    "print(hits_eig)\n",
    "print(len(hits_hubs.a))\n",
    "print(len(hits_auth.a))"
   ]
  },
  {
   "cell_type": "code",
   "execution_count": 117,
   "metadata": {},
   "outputs": [
    {
     "name": "stdout",
     "output_type": "stream",
     "text": [
      "1694786 /c/en/us 0.009454185632219574\n",
      "1109870 /c/en/organic_compound 0.010279616827765724\n",
      "977314 /c/en/mineral 0.014156979322257785\n",
      "1452752 /c/en/slang 0.01146463013376105\n",
      "1787274 mw:Noun 0.9990217959182452\n"
     ]
    }
   ],
   "source": [
    "gtanalysis.get_topn_indices(g, 'vertex_hubs', 5)"
   ]
  },
  {
   "cell_type": "code",
   "execution_count": 119,
   "metadata": {},
   "outputs": [
    {
     "name": "stdout",
     "output_type": "stream",
     "text": [
      "1092606 /c/en/office/n 0.0013874502045317378\n",
      "1198176 /c/en/pipe/n 0.0013897709252625415\n",
      "562632 /c/en/finger/n 0.0014006496106346283\n",
      "3082 /c/en/aa/n 0.001422256539421647\n",
      "1214392 /c/en/point/n 0.0014190458155190144\n"
     ]
    }
   ],
   "source": [
    "gtanalysis.get_topn_indices(g, 'vertex_auth', 5)"
   ]
  },
  {
   "cell_type": "markdown",
   "metadata": {},
   "source": [
    "## Querying"
   ]
  },
  {
   "cell_type": "code",
   "execution_count": null,
   "metadata": {},
   "outputs": [],
   "source": [
    "import utils.gt.query_utils as gtquery"
   ]
  },
  {
   "cell_type": "code",
   "execution_count": null,
   "metadata": {},
   "outputs": [],
   "source": [
    "from_deg=10000\n",
    "to_deg=100000"
   ]
  },
  {
   "cell_type": "code",
   "execution_count": null,
   "metadata": {},
   "outputs": [],
   "source": [
    "importlib.reload(gtquery)"
   ]
  },
  {
   "cell_type": "code",
   "execution_count": null,
   "metadata": {},
   "outputs": [],
   "source": [
    "gv=gtquery.get_nodes_with_degree(g, from_deg, to_deg)"
   ]
  },
  {
   "cell_type": "code",
   "execution_count": null,
   "metadata": {},
   "outputs": [],
   "source": [
    "gtanalysis.get_num_nodes(gv)"
   ]
  },
  {
   "cell_type": "code",
   "execution_count": null,
   "metadata": {},
   "outputs": [],
   "source": [
    "p='datasource'\n",
    "v='CN'\n",
    "sq=gtquery.get_nodes_by_node_prop(g, p, v)"
   ]
  },
  {
   "cell_type": "code",
   "execution_count": null,
   "metadata": {},
   "outputs": [],
   "source": [
    "len(sq)"
   ]
  },
  {
   "cell_type": "code",
   "execution_count": null,
   "metadata": {},
   "outputs": [],
   "source": [
    "p1='predicate'\n",
    "v1='/r/RelatedTo'\n",
    "sq1=gtquery.get_edges_by_edge_prop(g, p1, v1)"
   ]
  },
  {
   "cell_type": "code",
   "execution_count": null,
   "metadata": {},
   "outputs": [],
   "source": [
    "len(sq1)"
   ]
  },
  {
   "cell_type": "code",
   "execution_count": null,
   "metadata": {},
   "outputs": [],
   "source": [
    "len(gtquery.get_neighbors(g, '/c/en/bird', 'total'))"
   ]
  },
  {
   "cell_type": "code",
   "execution_count": null,
   "metadata": {},
   "outputs": [],
   "source": []
  }
 ],
 "metadata": {
  "kernelspec": {
   "display_name": "Python 3",
   "language": "python",
   "name": "python3"
  },
  "language_info": {
   "codemirror_mode": {
    "name": "ipython",
    "version": 3
   },
   "file_extension": ".py",
   "mimetype": "text/x-python",
   "name": "python",
   "nbconvert_exporter": "python",
   "pygments_lexer": "ipython3",
   "version": "3.7.6"
  }
 },
 "nbformat": 4,
 "nbformat_minor": 4
}
